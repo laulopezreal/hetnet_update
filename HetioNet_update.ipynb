{
 "cells": [
  {
   "cell_type": "markdown",
   "id": "considered-valley",
   "metadata": {
    "pycharm": {
     "name": "#%% md\n"
    }
   },
   "source": [
    "# HetioNet Updated Notebook"
   ]
  },
  {
   "cell_type": "markdown",
   "id": "approximate-bathroom",
   "metadata": {
    "pycharm": {
     "name": "#%% md\n"
    }
   },
   "source": [
    "## Overview\n",
    "------\n",
    "\n",
    "[HetioNet_update.ipnb](HetioNet_update.ipynb)  is a jupyter notebook that implements the code to update the G-BP relations from the original [HetioNet network](https://github.com/hetio/hetionet).\n",
    "This can be very useful for testing, training and demos.\n",
    "It provides an interactive dashboard to visualise the CPU and Disk usage whilst running the workflow.\n",
    "\n",
    "Simply run this jupyter notebook in order to construct the knowledge graph form the outputs of the processing files mentioned above. \n",
    "\n",
    "This jupyter notebook produces a `json.gzip` version of the **HetioNet Updated Network** ."
   ]
  },
  {
   "cell_type": "code",
   "execution_count": 1,
   "id": "supposed-storm",
   "metadata": {
    "pycharm": {
     "name": "#%%\n"
    }
   },
   "outputs": [],
   "source": [
    "# Import custom functions\n",
    "from tools.utils import *"
   ]
  },
  {
   "cell_type": "code",
   "execution_count": 2,
   "id": "infinite-output",
   "metadata": {
    "pycharm": {
     "name": "#%%\n"
    }
   },
   "outputs": [],
   "source": [
    "# Import required libraries\n",
    "import os\n",
    "import sys\n",
    "import bz2 as bz2\n",
    "import json\n",
    "import dask\n",
    "import requests\n",
    "import warnings\n",
    "\n",
    "import logging\n",
    "# import requests\n",
    "import argparse\n",
    "from pprint import pprint\n",
    "\n",
    "import dask.bag as db\n",
    "import dask.dataframe as dd\n",
    "from dask.distributed import Client\n",
    "\n",
    "from datetime import datetime"
   ]
  },
  {
   "cell_type": "code",
   "execution_count": 3,
   "id": "patent-growth",
   "metadata": {
    "pycharm": {
     "name": "#%%\n"
    }
   },
   "outputs": [],
   "source": [
    "# Define program global Variables\n",
    "_current_wd = os.getcwd()\n",
    "_out_path = _current_wd + '/out'\n",
    "_log_out_path = _out_path + '/running_output'\n",
    "_program_output = _out_path + '/network_outputs'\n",
    "_download_output = _out_path + '/download_outputs'\n",
    "_jsonl_path = _program_output + '/jsonl'\n",
    "\n",
    "_run_date = datetime.now().strftime(\"%Y%m%d\")\n",
    "_run_time = datetime.now().strftime(\"%H.%M\")\n",
    "warnings.filterwarnings(\"ignore\")"
   ]
  },
  {
   "cell_type": "code",
   "execution_count": 4,
   "id": "built-walter",
   "metadata": {
    "pycharm": {
     "name": "#%%\n"
    }
   },
   "outputs": [
    {
     "name": "stdout",
     "output_type": "stream",
     "text": [
      "2022-06-27 08:48:53,230 - <ipython-input-4-0895e5bee33b> - INFO: Environment set, program starts running. Current working directory is /home/llopez/git/hetnet_project\n"
     ]
    }
   ],
   "source": [
    "# Initiate logers\n",
    "logger, oh, eh = logger_outputs(_log_out_path, _run_date, _run_time)\n",
    "logger.info('Environment set, program starts running. Current working directory is {}'.format(_current_wd))\n"
   ]
  },
  {
   "cell_type": "code",
   "execution_count": 5,
   "id": "stock-growth",
   "metadata": {
    "pycharm": {
     "name": "#%%\n"
    }
   },
   "outputs": [
    {
     "name": "stdout",
     "output_type": "stream",
     "text": [
      "2022-06-24 11:16:43,598 - <ipython-input-5-36723c832226> - INFO: Start download helionet compressed json from its origin URL: https://github.com/hetio/hetionet/raw/master/hetnet/json/hetionet-v1.0.json.bz2 using HTTP\n",
      "2022-06-24 11:16:43,639 - connectionpool - DEBUG: Starting new HTTPS connection (1): github.com:443\n",
      "2022-06-24 11:16:43,975 - connectionpool - DEBUG: https://github.com:443 \"GET /hetio/hetionet/raw/master/hetnet/json/hetionet-v1.0.json.bz2 HTTP/1.1\" 302 0\n",
      "2022-06-24 11:16:43,979 - connectionpool - DEBUG: Starting new HTTPS connection (1): media.githubusercontent.com:443\n",
      "2022-06-24 11:16:44,953 - connectionpool - DEBUG: https://media.githubusercontent.com:443 \"GET /media/hetio/hetionet/master/hetnet/json/hetionet-v1.0.json.bz2 HTTP/1.1\" 200 16112094\n"
     ]
    }
   ],
   "source": [
    "# Download HetioNetJSON\n",
    "download_url = 'https://github.com/hetio/hetionet/raw/master/hetnet/json/hetionet-v1.0.json.bz2'\n",
    "logger.info('Start download helionet compressed json from its origin URL: {} using HTTP'.format(download_url))\n",
    "os.makedirs(_download_output, exist_ok=True)\n",
    "response = requests.get(download_url, stream=True)\n",
    "with open(_download_output + '/' + 'hetionet-v1.0.json.bz2', 'wb') as f:\n",
    "    for data in response:\n",
    "        f.write(data)\n",
    "        \n",
    "# Sanity check\n",
    "while 'hetionet-v1.0.json.bz2' not in os.listdir(_download_output):\n",
    "    logger.info('Waiting for download to complete and streaming writing.')"
   ]
  },
  {
   "cell_type": "code",
   "execution_count": null,
   "id": "corporate-miniature",
   "metadata": {
    "pycharm": {
     "name": "#%%\n"
    }
   },
   "outputs": [
    {
     "name": "stdout",
     "output_type": "stream",
     "text": [
      "2022-06-23 12:29:49,988 - 1560022088 - INFO: DOWNLOAD COMPLETE: Read json.bz2 downloaded file in streaming mode and convert it to jsonl\n",
      "2022-06-23 12:29:49,988 - 1560022088 - INFO: DOWNLOAD COMPLETE: Read json.bz2 downloaded file in streaming mode and convert it to jsonl\n",
      "2022-06-23 12:29:49,988 - 1560022088 - INFO: DOWNLOAD COMPLETE: Read json.bz2 downloaded file in streaming mode and convert it to jsonl\n"
     ]
    }
   ],
   "source": [
    "# Read json.bz2 file in streaming mode and convert it to jsonl\n",
    "logger.info('DOWNLOAD COMPLETE: Read json.bz2 downloaded file in streaming mode and convert it to jsonl')\n",
    "with bz2.open(_download_output + '/hetionet-v1.0.json.bz2', 'rb') as f:\n",
    "    json_data = json.load(f)\n",
    "    keys = [data for data in json_data]\n",
    "    for key in keys:\n",
    "        if not os.path.exists(_jsonl_path):\n",
    "            logging.debug('Creating new folder at {}'.format(_jsonl_path))\n",
    "            os.makedirs(_jsonl_path)\n",
    "        logging.debug('Generating jsonl: output_{}.jsonl.'.format(key))\n",
    "        with open(_jsonl_path + '/output_{}.jsonl'.format(key), 'w') as outfile:\n",
    "            to_write = json_data[key]\n",
    "            for element in to_write:\n",
    "                outfile.write(json.dumps(element) + \"\\n\")\n",
    "\n",
    "# Sanity Check\n",
    "logger.info('Conversion complete. Performing sanity check before starting the Extraction Pipeline')\n",
    "try:\n",
    "    len(os.listdir(_jsonl_path)) == 5\n",
    "except:\n",
    "    raise BlockingIOError('Not all jsonl files needed for downstream Dask pipeline found. Path {} contains: {}. '\n",
    "                          'Try to rerun the program'.format(_jsonl_path, os.listdir(_jsonl_path).join(',')))\n",
    "logger.info('All jsonl files needed for the downstream Dask pipeline have been generated at {}:{}.'.format(\n",
    "    _jsonl_path, str(os.listdir(_jsonl_path))))"
   ]
  },
  {
   "cell_type": "code",
   "execution_count": 7,
   "id": "desirable-insurance",
   "metadata": {
    "pycharm": {
     "name": "#%%\n"
    }
   },
   "outputs": [
    {
     "name": "stdout",
     "output_type": "stream",
     "text": [
      "2022-06-24 11:23:48,935 - <ipython-input-7-2719fd567484> - INFO: \"Genes\" to \"Biological Process\" Edges (G-BP) Extraction Pipeline begins.\n",
      "2022-06-24 11:23:48,947 - <ipython-input-7-2719fd567484> - INFO: Initiating Dask Client with the next parameters: 4 workers, 1 threads x worker:, memory_limit of 8GB.\n",
      "2022-06-24 11:23:48,948 - selector_events - DEBUG: Using selector: EpollSelector\n",
      "2022-06-24 11:23:48,950 - selector_events - DEBUG: Using selector: EpollSelector\n",
      "2022-06-24 11:23:49,061 - <ipython-input-7-2719fd567484> - INFO: Dask client status is running. INFO: <Client: 'tcp://127.0.0.1:42923' processes=4 threads=4, memory=32.00 GB>\n"
     ]
    }
   ],
   "source": [
    "# Start the Dask Client\n",
    "n_workers = 4\n",
    "threads_per_worker = 1\n",
    "memory_limit = '8GB'\n",
    "logger.info(\n",
    "    'Initiating Dask Client with the next parameters: {} workers, {} threads x worker:, memory_limit of {}.'.format(\n",
    "        n_workers, threads_per_worker, memory_limit))\n",
    "client = initiate_dask_client(n_workers, threads_per_worker, memory_limit)\n",
    "\n",
    "\n"
   ]
  },
  {
   "cell_type": "code",
   "execution_count": null,
   "id": "czech-prior",
   "metadata": {},
   "outputs": [],
   "source": [
    "# Edge extraction starts\n",
    "logger.info('\"Genes\" to \"Biological Process\" Edges (G-BP) Extraction Pipeline begins.')\n",
    "\n",
    "# Sanity check\n",
    "try:\n",
    "    client.status == 'running'\n",
    "except:\n",
    "    raise EnvironmentError('Dask client could not initiate.')\n",
    "logger.info('Dask client status is {}. INFO: {}'.format(client.status, client))"
   ]
  },
  {
   "cell_type": "code",
   "execution_count": 8,
   "id": "lesbian-membership",
   "metadata": {
    "pycharm": {
     "name": "#%%\n"
    }
   },
   "outputs": [
    {
     "name": "stdout",
     "output_type": "stream",
     "text": [
      "2022-06-24 11:23:52,616 - utils - INFO: Nodes and Edges bags created from /home/llopez/git/hetnet_project/out/network_outputs/jsonl.\n",
      "2022-06-24 11:23:52,617 - utils - INFO: Example of Node Record:\n",
      "-------\n",
      "({'data': {'license': 'CC BY 4.0',\n",
      "           'source': 'Gene Ontology',\n",
      "           'url': 'http://purl.obolibrary.org/obo/GO_0031753'},\n",
      "  'identifier': 'GO:0031753',\n",
      "  'kind': 'Molecular Function',\n",
      "  'name': 'endothelial differentiation G-protein coupled receptor binding'},)\n",
      "-------\n",
      "2022-06-24 11:23:52,651 - utils - INFO: Example of Edge Record:\n",
      "-------\n",
      "({'data': {'source': 'Bgee', 'unbiased': True},\n",
      "  'direction': 'both',\n",
      "  'kind': 'upregulates',\n",
      "  'source_id': ['Anatomy', 'UBERON:0000178'],\n",
      "  'target_id': ['Gene', 9489]},)\n",
      "-------\n",
      "2022-06-24 11:23:52,671 - <ipython-input-8-320747605a47> - INFO: Computing the number of nodes of each type in the network\n",
      "2022-06-24 11:23:52,921 - <ipython-input-8-320747605a47> - INFO: Number of nodes in the network: \n",
      "----- NODE TYPES\n",
      "{'Anatomy': 402,\n",
      " 'Biological Process': 11381,\n",
      " 'Cellular Component': 1391,\n",
      " 'Compound': 1552,\n",
      " 'Disease': 137,\n",
      " 'Gene': 20945,\n",
      " 'Molecular Function': 2884,\n",
      " 'Pathway': 1822,\n",
      " 'Pharmacologic Class': 345,\n",
      " 'Side Effect': 5734,\n",
      " 'Symptom': 438}\n",
      "-----\n"
     ]
    }
   ],
   "source": [
    "# Convert jsonl files into a dask bag (ONLY NODE EDGES?, Remember there are other two)\n",
    "N, E = convert_jsonl_to_bags(logger, _jsonl_path, print_example=True)\n",
    "\n",
    "# Number of Nodes of each type in the network\n",
    "logger.info('Computing the number of nodes of each type in the network')\n",
    "n_nodes = dict(N.map(lambda record: record['kind']).frequencies(sort=True).compute())\n",
    "logger.info('Number of nodes in the network: \\n----- NODE TYPES')\n",
    "pprint(n_nodes)\n",
    "print('-----')\n"
   ]
  },
  {
   "cell_type": "code",
   "execution_count": 9,
   "id": "tribal-eclipse",
   "metadata": {
    "collapsed": false,
    "jupyter": {
     "outputs_hidden": false
    },
    "pycharm": {
     "name": "#%%\n"
    }
   },
   "outputs": [
    {
     "name": "stdout",
     "output_type": "stream",
     "text": [
      "2022-06-24 11:24:56,092 - <ipython-input-9-4b7e99af849a> - INFO: Extracting nodes of kind:\"Gene\" and kind:\"Biological Process\" from the network\n",
      "2022-06-24 11:24:56,509 - <ipython-input-9-4b7e99af849a> - INFO: Nodes extracted, new records contain: \n",
      "----- SELECTED NETWORK NODE TYPES\n",
      "{'Biological Process': 11381, 'Gene': 20945}\n",
      "-----\n"
     ]
    }
   ],
   "source": [
    "# Extract only Gene and Biological Process Nodes\n",
    "logger.info('Extracting nodes of kind:\"Gene\" and kind:\"Biological Process\" from the network')\n",
    "selected_nodes = select_gene_BP_nodes(N)\n",
    "n_selected_nodes = dict(selected_nodes.map(lambda record: record['kind']).frequencies(sort=True).compute())\n",
    "logger.info('Nodes extracted, new records contain: \\n----- SELECTED NETWORK NODE TYPES')\n",
    "pprint(n_selected_nodes)\n",
    "print('-----')"
   ]
  },
  {
   "cell_type": "code",
   "execution_count": 10,
   "id": "eastern-rating",
   "metadata": {
    "collapsed": false,
    "jupyter": {
     "outputs_hidden": false
    },
    "pycharm": {
     "name": "#%%\n"
    }
   },
   "outputs": [
    {
     "name": "stdout",
     "output_type": "stream",
     "text": [
      "2022-06-24 11:25:18,704 - <ipython-input-10-28149d5220fb> - INFO: Extracting G-BP Edges from the network\n",
      "2022-06-24 11:25:37,850 - <ipython-input-10-28149d5220fb> - INFO: G-BP Edges extracted successfully! New records contain: \n",
      "----- SELECTED EDGES\n",
      "Type of edge and frequency of each type:\n",
      "{'participates': 559504}\n",
      "---\n",
      "Sample of 20 Edges:\n",
      "['Biological Process', 'GO:0071357'] ------ ['participates'] ------ ['Gene', 9021]\n",
      "['Biological Process', 'GO:0098780'] ------ ['participates'] ------ ['Gene', 51676]\n",
      "['Biological Process', 'GO:0055088'] ------ ['participates'] ------ ['Gene', 19]\n",
      "['Biological Process', 'GO:0010243'] ------ ['participates'] ------ ['Gene', 3176]\n",
      "['Biological Process', 'GO:0006898'] ------ ['participates'] ------ ['Gene', 3039]\n",
      "['Biological Process', 'GO:0051346'] ------ ['participates'] ------ ['Gene', 5962]\n",
      "['Biological Process', 'GO:0043207'] ------ ['participates'] ------ ['Gene', 841]\n",
      "['Biological Process', 'GO:0006354'] ------ ['participates'] ------ ['Gene', 6924]\n",
      "['Biological Process', 'GO:0006417'] ------ ['participates'] ------ ['Gene', 7407]\n",
      "['Biological Process', 'GO:0030852'] ------ ['participates'] ------ ['Gene', 9370]\n",
      "-----\n"
     ]
    }
   ],
   "source": [
    "# Filter to select Gene to Biological Process edges\n",
    "logger.info('Extracting G-BP Edges from the network')\n",
    "selected_edges = select_gene_BP_edges(E)\n",
    "n_selected_edges = dict(selected_edges.map(lambda record: record['kind']).frequencies(sort=True).compute())\n",
    "double = selected_edges.map(lambda record: record['target_id']).take(10), selected_edges.map(\n",
    "    lambda record: record['source_id']).take(10)\n",
    "logger.info('G-BP Edges extracted successfully! New records contain: \\n----- SELECTED EDGES')\n",
    "print('Type of edge and frequency of each type:')\n",
    "pprint(n_selected_edges)\n",
    "print('---\\nSample of 20 Edges:')\n",
    "for i in range(0, len(double[0])):\n",
    "    print(double[0][i], '------', list(n_selected_edges.keys()), '------', double[1][i])\n",
    "print('-----')"
   ]
  },
  {
   "cell_type": "code",
   "execution_count": 11,
   "id": "found-amazon",
   "metadata": {
    "collapsed": false,
    "jupyter": {
     "outputs_hidden": false
    },
    "pycharm": {
     "name": "#%%\n"
    }
   },
   "outputs": [
    {
     "name": "stdout",
     "output_type": "stream",
     "text": [
      "2022-06-24 11:27:59,978 - <ipython-input-11-e3f27e9092a7> - INFO: Converting the records of the extracted G-BP Edges into a Dask DataFrame and save it as a jsonl output file.\n",
      "2022-06-24 11:28:00,001 - utils - INFO: Selected G-BP Edges Dask DataFrane successfully created.\n",
      "2022-06-24 11:28:00,002 - utils - INFO: Showing first rows of the DataFrame:\n",
      "----- G-BP Edges DataFrame\n",
      "Dask DataFrame Structure:\n",
      "              source_type source_id target_type target_id    kind direction    data\n",
      "npartitions=1                                                                      \n",
      "                   object    object      object    object  object    object  object\n",
      "                      ...       ...         ...       ...     ...       ...     ...\n",
      "Dask Name: describe, 81 tasks\n",
      "  source_type source_id         target_type   target_id\n",
      "0        Gene      9021  Biological Process  GO:0071357\n",
      "1        Gene     51676  Biological Process  GO:0098780\n",
      "2        Gene        19  Biological Process  GO:0055088\n",
      "3        Gene      3176  Biological Process  GO:0010243\n",
      "4        Gene      3039  Biological Process  GO:0006898\n",
      "2022-06-24 11:28:53,252 - <ipython-input-11-e3f27e9092a7> - INFO: Export of G-BP_edges_formated_20220624.jsonl.gzip complete at /home/llopez/git/hetnet_project/out/network_outputs!\n"
     ]
    }
   ],
   "source": [
    "# Convert to df\n",
    "logger.info('Converting the records of the extracted G-BP Edges into a Dask DataFrame '\n",
    "            'and save it as a jsonl output file.')\n",
    "if not os.path.exists(_program_output):\n",
    "    logging.debug('Creating new folder at {}'.format(_program_output))\n",
    "    os.makedirs(_program_output)\n",
    "# define the absolute path\n",
    "df_jsonl_name = 'G-BP_edges_formated_{}.jsonl.gzip'.format(_run_date)\n",
    "\n",
    "# Save to jsonl.gzip format\n",
    "output_absolute_path = _program_output + '/' + df_jsonl_name\n",
    "\n",
    "# execute the function\n",
    "convert_to_dd(logger, selected_edges, print_head=True, save_jsonl=True, jsonl_path=output_absolute_path)\n",
    "# Sanity Check\n",
    "try:\n",
    "    df_jsonl_name in os.listdir(_program_output)\n",
    "except:\n",
    "    FileNotFoundError('{} not found in {}. Something must have gone wrong during the export')\n",
    "logger.info('Export of {} complete at {}!'.format(df_jsonl_name, _program_output))"
   ]
  },
  {
   "cell_type": "code",
   "execution_count": null,
   "id": "effective-appreciation",
   "metadata": {
    "collapsed": false,
    "jupyter": {
     "outputs_hidden": false
    },
    "pycharm": {
     "name": "#%%\n"
    }
   },
   "outputs": [],
   "source": []
  }
 ],
 "metadata": {
  "kernelspec": {
   "display_name": "Python 3",
   "language": "python",
   "name": "python3"
  },
  "language_info": {
   "codemirror_mode": {
    "name": "ipython",
    "version": 3
   },
   "file_extension": ".py",
   "mimetype": "text/x-python",
   "name": "python",
   "nbconvert_exporter": "python",
   "pygments_lexer": "ipython3",
   "version": "3.8.10"
  }
 },
 "nbformat": 4,
 "nbformat_minor": 5
}
